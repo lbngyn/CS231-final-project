{
  "cells": [
    {
      "cell_type": "code",
      "execution_count": 1,
      "metadata": {
        "colab": {
          "base_uri": "https://localhost:8080/"
        },
        "id": "BIVndhFSjVpr",
        "outputId": "39ce435b-01c6-4a45-8f7f-bfa5c709f1c7"
      },
      "outputs": [
        {
          "output_type": "stream",
          "name": "stdout",
          "text": [
            "Mounted at /content/drive\n"
          ]
        }
      ],
      "source": [
        "# Kết nối vào gg drive nếu dùng gg colab\n",
        "from google.colab import drive\n",
        "drive.mount('/content/drive')"
      ]
    },
    {
      "cell_type": "code",
      "execution_count": null,
      "metadata": {
        "id": "UVWs7FqYIEbD"
      },
      "outputs": [],
      "source": [
        "# Git clone\n",
        "# %cd /content/drive/MyDrive/Git Clone #chọn đường dẫn đến thư mục muốn clone đến\n",
        "# !git clone https://github.com/lbngyn/CS231-final-project.git"
      ]
    },
    {
      "cell_type": "code",
      "execution_count": 2,
      "metadata": {
        "colab": {
          "base_uri": "https://localhost:8080/"
        },
        "id": "Y-y5TsvWICaz",
        "outputId": "cd169304-c3bd-4aa4-c363-01309bd6175c"
      },
      "outputs": [
        {
          "output_type": "stream",
          "name": "stdout",
          "text": [
            "/content/drive/MyDrive/Git Clone/CS231-final-project\n"
          ]
        }
      ],
      "source": [
        "# cd đến thư mục project vừa clone về\n",
        "%cd /content/drive/MyDrive/Git Clone/CS231-final-project"
      ]
    },
    {
      "cell_type": "markdown",
      "metadata": {
        "id": "QQih5BSMHsPI"
      },
      "source": [
        "# Import necessary libraries"
      ]
    },
    {
      "cell_type": "code",
      "execution_count": 3,
      "metadata": {
        "id": "Wh8TxZzRHsPK"
      },
      "outputs": [],
      "source": [
        "import os\n",
        "import cv2\n",
        "import numpy as np\n",
        "import pandas as pd\n",
        "from sklearn.svm import SVC\n",
        "from matplotlib import pyplot as plt\n",
        "from sklearn.metrics import accuracy_score\n",
        "from sklearn.decomposition import PCA\n",
        "from sklearn.preprocessing import LabelEncoder\n",
        "from sklearn.svm import SVC\n",
        "from sklearn.preprocessing import StandardScaler\n",
        "from sklearn.ensemble import RandomForestClassifier\n",
        "from sklearn.model_selection import GridSearchCV\n",
        "from skimage.feature import hog\n",
        "import lightgbm as lgb"
      ]
    },
    {
      "cell_type": "markdown",
      "metadata": {
        "id": "Pf4dTBiDHsPM"
      },
      "source": [
        "# Get paths"
      ]
    },
    {
      "cell_type": "code",
      "execution_count": 4,
      "metadata": {
        "id": "m2YZtu_1HsPM"
      },
      "outputs": [],
      "source": [
        "# Directories\n",
        "train_dir = 'Data/train'\n",
        "val_dir = 'Data/val'\n",
        "test_dir = 'Data/test'"
      ]
    },
    {
      "cell_type": "markdown",
      "metadata": {
        "id": "snyJUwlqHsPM"
      },
      "source": [
        "# Data processing"
      ]
    },
    {
      "cell_type": "code",
      "execution_count": 5,
      "metadata": {
        "id": "XtzPSCh3HsPM"
      },
      "outputs": [],
      "source": [
        "def compute_color_histogram(image, bins=(8, 8, 8)):\n",
        "    # Convert the image to HSV color space\n",
        "    hsv_image = cv2.cvtColor(image, cv2.COLOR_BGR2HSV)\n",
        "    # Compute the color histogram\n",
        "    hist = cv2.calcHist([hsv_image], [0, 1, 2], None, bins, [0, 180, 0, 256, 0, 256])\n",
        "    # Normalize the histogram\n",
        "    hist = cv2.normalize(hist, hist).flatten()\n",
        "    return hist\n",
        "\n",
        "def load_images(folder_path, flower_types):\n",
        "    features = []\n",
        "    labels = []\n",
        "    for flower in flower_types:\n",
        "        flower_folder = os.path.join(folder_path, flower)\n",
        "        for img in os.listdir(flower_folder):\n",
        "            img_path = os.path.join(flower_folder, img)\n",
        "            image = cv2.imread(img_path)\n",
        "            if image is None:\n",
        "                continue\n",
        "            image = np.array(image).astype('uint8')\n",
        "            image = cv2.resize(image, (64, 64))\n",
        "            grey_image = cv2.cvtColor(image, cv2.COLOR_BGR2GRAY)\n",
        "\n",
        "            # Extract HOG features\n",
        "            hog_features = hog(grey_image, orientations=9, pixels_per_cell=(8, 8),\n",
        "                               cells_per_block=(2, 2), transform_sqrt=True, block_norm=\"L2\")\n",
        "\n",
        "            # Extract color histogram features\n",
        "            color_hist = compute_color_histogram(image)\n",
        "\n",
        "            # Concatenate HOG and color histogram features\n",
        "            combined_features = np.hstack((hog_features, color_hist))\n",
        "\n",
        "            features.append(combined_features)\n",
        "            labels.append(flower)\n",
        "\n",
        "    return np.array(features), np.array(labels)"
      ]
    },
    {
      "cell_type": "code",
      "execution_count": 6,
      "metadata": {
        "colab": {
          "base_uri": "https://localhost:8080/"
        },
        "id": "nyioihusHsPN",
        "outputId": "86af1ba5-633e-4a74-9ef5-92755c405e8d"
      },
      "outputs": [
        {
          "output_type": "stream",
          "name": "stdout",
          "text": [
            "Number of training samples: 5981\n",
            "Number of validation samples: 1709\n",
            "Number of testing samples: 857\n"
          ]
        }
      ],
      "source": [
        "flower_types = [folder for folder in os.listdir(train_dir)]\n",
        "\n",
        "X_train, y_train = load_images(train_dir, flower_types)\n",
        "X_val, y_val = load_images(val_dir, flower_types)\n",
        "X_test, y_test = load_images(test_dir, flower_types)\n",
        "\n",
        "# Kiểm tra dữ liệu sau khi tải\n",
        "print(f\"Number of training samples: {len(X_train)}\")\n",
        "print(f\"Number of validation samples: {len(X_val)}\")\n",
        "print(f\"Number of testing samples: {len(X_test)}\")"
      ]
    },
    {
      "cell_type": "code",
      "execution_count": 7,
      "metadata": {
        "colab": {
          "base_uri": "https://localhost:8080/"
        },
        "id": "2AKw7yLIHsPO",
        "outputId": "05dd78cc-26e9-451e-8000-5124424aa0e8"
      },
      "outputs": [
        {
          "output_type": "stream",
          "name": "stdout",
          "text": [
            "Label to Encoded Mapping:\n",
            "daisy -> 0\n",
            "lily -> 1\n",
            "orchid -> 2\n",
            "sunflower -> 3\n",
            "tulip -> 4\n"
          ]
        }
      ],
      "source": [
        "# Encode labels\n",
        "encoder = LabelEncoder()\n",
        "y_train_encoded = encoder.fit_transform(y_train)\n",
        "y_val_encoded = encoder.transform(y_val)\n",
        "y_test_encoded = encoder.transform(y_test)\n",
        "\n",
        "print(\"Label to Encoded Mapping:\")\n",
        "for original_label, encoded_label in zip(encoder.classes_, range(len(encoder.classes_))):\n",
        "    print(f\"{original_label} -> {encoded_label}\")\n",
        "\n",
        "# Standardize data\n",
        "scaler = StandardScaler()\n",
        "X_train_scaled = scaler.fit_transform(X_train)\n",
        "X_val_scaled = scaler.transform(X_val)\n",
        "X_test_scaled = scaler.transform(X_test)"
      ]
    },
    {
      "cell_type": "code",
      "execution_count": 8,
      "metadata": {
        "colab": {
          "base_uri": "https://localhost:8080/"
        },
        "id": "s4u_7pO6HsPO",
        "outputId": "f215f39f-faac-4854-e882-8a476c53b962"
      },
      "outputs": [
        {
          "output_type": "stream",
          "name": "stdout",
          "text": [
            "(5981, 2276)\n",
            "(5981, 782)\n"
          ]
        }
      ],
      "source": [
        "# Apply PCA\n",
        "pca = PCA(n_components=0.95)\n",
        "print(X_train.shape)\n",
        "X_train_pca = pca.fit_transform(X_train_scaled)\n",
        "print(X_train_pca.shape)\n",
        "X_val_pca = pca.transform(X_val_scaled)\n",
        "X_test_pca = pca.transform(X_test_scaled)"
      ]
    },
    {
      "cell_type": "markdown",
      "metadata": {
        "id": "epD6zKFkHsPO"
      },
      "source": [
        "# Initiating necessary functions"
      ]
    },
    {
      "cell_type": "code",
      "execution_count": 9,
      "metadata": {
        "id": "sPMmwAWDHsPP"
      },
      "outputs": [],
      "source": [
        "def evaluate_model(model, X_train, X_val, y_train, y_val):\n",
        "    # Huấn luyện mô hình\n",
        "    model.fit(X_train, y_train)\n",
        "    # Dự đoán trên tập validation\n",
        "    y_pred = model.predict(X_val)\n",
        "\n",
        "    # Tính các chỉ số đánh giá\n",
        "    accuracy = accuracy_score(y_val, y_pred)\n",
        "\n",
        "    return accuracy"
      ]
    },
    {
      "cell_type": "code",
      "execution_count": 10,
      "metadata": {
        "id": "lBtJDmb3httl"
      },
      "outputs": [],
      "source": [
        "# Define parameter grids\n",
        "param_grid_svm = {\n",
        "    'C': [0.01, 0.1, 1, 5, 10, 15, 20],\n",
        "    'kernel': ['rbf', 'poly', 'linear']\n",
        "}\n",
        "\n",
        "param_grid_rf = {\n",
        "    'n_estimators': [300, 500, 800, 1000, 1200]\n",
        "}\n",
        "\n",
        "param_grid_lgb = {\n",
        "    'learning_rate': [0.05, 0.1, 0.15, 0.2, 0.25, 0.3, 0.35, 0.4]\n",
        "}"
      ]
    },
    {
      "cell_type": "code",
      "execution_count": 11,
      "metadata": {
        "id": "Jr8-iHGwhttl"
      },
      "outputs": [],
      "source": [
        "# Evaluation functions using GridSearchCV\n",
        "def grid_search_evaluate(model, param_grid, X_train, y_train, X_val, y_val):\n",
        "    grid_search = GridSearchCV(estimator=model, param_grid=param_grid, scoring='accuracy', cv=5, n_jobs=-1)\n",
        "    grid_search.fit(X_train, y_train)\n",
        "    best_model = grid_search.best_estimator_\n",
        "    y_pred = best_model.predict(X_val)\n",
        "    val_accuracy = accuracy_score(y_val, y_pred)\n",
        "\n",
        "    # Create a DataFrame with all results\n",
        "    results_df = pd.DataFrame(grid_search.cv_results_)\n",
        "    results_df = results_df[['params', 'mean_test_score']]\n",
        "    return results_df"
      ]
    },
    {
      "cell_type": "markdown",
      "metadata": {
        "id": "91F--LQLHsPP"
      },
      "source": [
        "# SVM"
      ]
    },
    {
      "cell_type": "code",
      "execution_count": 12,
      "metadata": {
        "id": "ZntN2bMRHsPP"
      },
      "outputs": [],
      "source": [
        "output_dir = os.path.join('finetunning_result', 'svm.csv')\n",
        "df_svm = grid_search_evaluate(SVC(), param_grid_svm, X_train_pca, y_train_encoded, X_val_pca, y_val_encoded)\n",
        "df_svm.to_csv(output_dir, index=True)"
      ]
    },
    {
      "cell_type": "markdown",
      "metadata": {
        "id": "2bj_e3-6HsPQ"
      },
      "source": [
        "# Random Forest"
      ]
    },
    {
      "cell_type": "code",
      "execution_count": 13,
      "metadata": {
        "id": "nViJ14A3HsPQ"
      },
      "outputs": [],
      "source": [
        "output_dir = os.path.join('finetunning_result', 'randomForest.csv')\n",
        "df_random_forest = grid_search_evaluate(RandomForestClassifier(), param_grid_rf, X_train_pca, y_train, X_val_pca, y_val)\n",
        "df_random_forest.to_csv(output_dir, index=True)"
      ]
    },
    {
      "cell_type": "markdown",
      "metadata": {
        "id": "pCUb0Mk3HsPP"
      },
      "source": [
        "# LightGBM"
      ]
    },
    {
      "cell_type": "code",
      "execution_count": 14,
      "metadata": {
        "id": "YAGwHr2QHsPP",
        "colab": {
          "base_uri": "https://localhost:8080/"
        },
        "outputId": "a4e9d7ab-0160-4cbd-8460-86e6b8cfbcf4"
      },
      "outputs": [
        {
          "output_type": "stream",
          "name": "stderr",
          "text": [
            "/usr/local/lib/python3.10/dist-packages/joblib/externals/loky/process_executor.py:752: UserWarning: A worker stopped while some jobs were given to the executor. This can be caused by a too short worker timeout or by a memory leak.\n",
            "  warnings.warn(\n"
          ]
        },
        {
          "output_type": "stream",
          "name": "stdout",
          "text": [
            "[LightGBM] [Info] Auto-choosing col-wise multi-threading, the overhead of testing was 0.100102 seconds.\n",
            "You can set `force_col_wise=true` to remove the overhead.\n",
            "[LightGBM] [Info] Total Bins 199410\n",
            "[LightGBM] [Info] Number of data points in the train set: 5981, number of used features: 782\n",
            "[LightGBM] [Info] Start training from score -1.580761\n",
            "[LightGBM] [Info] Start training from score -1.664602\n",
            "[LightGBM] [Info] Start training from score -1.530077\n",
            "[LightGBM] [Info] Start training from score -1.607100\n",
            "[LightGBM] [Info] Start training from score -1.671694\n",
            "[LightGBM] [Warning] No further splits with positive gain, best gain: -inf\n",
            "[LightGBM] [Warning] No further splits with positive gain, best gain: -inf\n",
            "[LightGBM] [Warning] No further splits with positive gain, best gain: -inf\n",
            "[LightGBM] [Warning] No further splits with positive gain, best gain: -inf\n",
            "[LightGBM] [Warning] No further splits with positive gain, best gain: -inf\n",
            "[LightGBM] [Warning] No further splits with positive gain, best gain: -inf\n",
            "[LightGBM] [Warning] No further splits with positive gain, best gain: -inf\n",
            "[LightGBM] [Warning] No further splits with positive gain, best gain: -inf\n"
          ]
        }
      ],
      "source": [
        "output_dir = os.path.join('finetunning_result', 'lightGBM.csv')\n",
        "df_lightGBM = grid_search_evaluate(lgb.LGBMClassifier(), param_grid_lgb, X_train_pca, y_train, X_val_pca, y_val)\n",
        "df_lightGBM.to_csv(output_dir, index=True)"
      ]
    },
    {
      "cell_type": "code",
      "execution_count": null,
      "metadata": {
        "id": "Qo6tljS9iIUk"
      },
      "outputs": [],
      "source": []
    }
  ],
  "metadata": {
    "colab": {
      "provenance": []
    },
    "kaggle": {
      "accelerator": "none",
      "dataSources": [
        {
          "datasetId": 1170109,
          "sourceId": 1960165,
          "sourceType": "datasetVersion"
        },
        {
          "datasetId": 2187552,
          "sourceId": 3653473,
          "sourceType": "datasetVersion"
        },
        {
          "datasetId": 3083976,
          "sourceId": 5304701,
          "sourceType": "datasetVersion"
        }
      ],
      "dockerImageVersionId": 30698,
      "isGpuEnabled": false,
      "isInternetEnabled": false,
      "language": "python",
      "sourceType": "notebook"
    },
    "kernelspec": {
      "display_name": "Python 3",
      "name": "python3"
    },
    "language_info": {
      "codemirror_mode": {
        "name": "ipython",
        "version": 3
      },
      "file_extension": ".py",
      "mimetype": "text/x-python",
      "name": "python",
      "nbconvert_exporter": "python",
      "pygments_lexer": "ipython3",
      "version": "3.12.2"
    }
  },
  "nbformat": 4,
  "nbformat_minor": 0
}